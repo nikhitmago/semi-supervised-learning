{
 "cells": [
  {
   "cell_type": "code",
   "execution_count": 1,
   "metadata": {},
   "outputs": [],
   "source": [
    "import numpy as np\n",
    "import pandas as pd\n",
    "from sklearn.model_selection import train_test_split, GridSearchCV, KFold\n",
    "from sklearn.svm import LinearSVC\n",
    "from sklearn.metrics import roc_curve, auc, confusion_matrix\n",
    "import matplotlib.pyplot as plt\n",
    "%matplotlib inline"
   ]
  },
  {
   "cell_type": "markdown",
   "metadata": {},
   "source": [
    "(a) Download the banknote authentication Data Set from: https://archive.ics.uci.edu/ml/datasets/banknote+authentication. \n",
    "Choose 472 data points randomly as the test set. This is a binary classification problem."
   ]
  },
  {
   "cell_type": "code",
   "execution_count": 2,
   "metadata": {},
   "outputs": [],
   "source": [
    "df = pd.read_csv('data.csv')"
   ]
  },
  {
   "cell_type": "code",
   "execution_count": 3,
   "metadata": {},
   "outputs": [
    {
     "data": {
      "text/html": [
       "<div>\n",
       "<style scoped>\n",
       "    .dataframe tbody tr th:only-of-type {\n",
       "        vertical-align: middle;\n",
       "    }\n",
       "\n",
       "    .dataframe tbody tr th {\n",
       "        vertical-align: top;\n",
       "    }\n",
       "\n",
       "    .dataframe thead th {\n",
       "        text-align: right;\n",
       "    }\n",
       "</style>\n",
       "<table border=\"1\" class=\"dataframe\">\n",
       "  <thead>\n",
       "    <tr style=\"text-align: right;\">\n",
       "      <th></th>\n",
       "      <th>variance</th>\n",
       "      <th>skewness</th>\n",
       "      <th>curtosis</th>\n",
       "      <th>entropy</th>\n",
       "      <th>class</th>\n",
       "    </tr>\n",
       "  </thead>\n",
       "  <tbody>\n",
       "    <tr>\n",
       "      <th>0</th>\n",
       "      <td>3.62160</td>\n",
       "      <td>8.6661</td>\n",
       "      <td>-2.8073</td>\n",
       "      <td>-0.44699</td>\n",
       "      <td>0</td>\n",
       "    </tr>\n",
       "    <tr>\n",
       "      <th>1</th>\n",
       "      <td>4.54590</td>\n",
       "      <td>8.1674</td>\n",
       "      <td>-2.4586</td>\n",
       "      <td>-1.46210</td>\n",
       "      <td>0</td>\n",
       "    </tr>\n",
       "    <tr>\n",
       "      <th>2</th>\n",
       "      <td>3.86600</td>\n",
       "      <td>-2.6383</td>\n",
       "      <td>1.9242</td>\n",
       "      <td>0.10645</td>\n",
       "      <td>0</td>\n",
       "    </tr>\n",
       "    <tr>\n",
       "      <th>3</th>\n",
       "      <td>3.45660</td>\n",
       "      <td>9.5228</td>\n",
       "      <td>-4.0112</td>\n",
       "      <td>-3.59440</td>\n",
       "      <td>0</td>\n",
       "    </tr>\n",
       "    <tr>\n",
       "      <th>4</th>\n",
       "      <td>0.32924</td>\n",
       "      <td>-4.4552</td>\n",
       "      <td>4.5718</td>\n",
       "      <td>-0.98880</td>\n",
       "      <td>0</td>\n",
       "    </tr>\n",
       "  </tbody>\n",
       "</table>\n",
       "</div>"
      ],
      "text/plain": [
       "   variance  skewness  curtosis  entropy  class\n",
       "0   3.62160    8.6661   -2.8073 -0.44699      0\n",
       "1   4.54590    8.1674   -2.4586 -1.46210      0\n",
       "2   3.86600   -2.6383    1.9242  0.10645      0\n",
       "3   3.45660    9.5228   -4.0112 -3.59440      0\n",
       "4   0.32924   -4.4552    4.5718 -0.98880      0"
      ]
     },
     "execution_count": 3,
     "metadata": {},
     "output_type": "execute_result"
    }
   ],
   "source": [
    "df.head()"
   ]
  },
  {
   "cell_type": "code",
   "execution_count": 4,
   "metadata": {},
   "outputs": [],
   "source": [
    "X = df.loc[:,df.columns[df.columns!='class']]\n",
    "y = df.loc[:,'class']"
   ]
  },
  {
   "cell_type": "code",
   "execution_count": 5,
   "metadata": {},
   "outputs": [],
   "source": [
    "X_train_full, X_test, y_train_full, y_test = train_test_split(X, y, test_size=472, random_state=0)"
   ]
  },
  {
   "cell_type": "markdown",
   "metadata": {},
   "source": [
    "### Passive Learning"
   ]
  },
  {
   "cell_type": "markdown",
   "metadata": {},
   "source": [
    "(b) Repeat each of the following two procedures 50 times. You will have 50 errors for 90 SVMs per each procedure.\n",
    "\n",
    "Train a SVM with a pool of 10 randomly selected data points from the training set using linear kernel and L1 penalty. Select the penalty parameter using 10-fold cross validation.1 Repeat this process by adding 10 other randomly selected data points to the pool, until you use all the 900 points. Do NOT replace the samples back into the training set at each step. Calculate the test error for each SVM. You will have 90 SVMs that were trained using 10, 20, 30, ... , 900 data points and their 90 test errors. You have implemented passive learning."
   ]
  },
  {
   "cell_type": "code",
   "execution_count": 6,
   "metadata": {},
   "outputs": [],
   "source": [
    "parameters = {'C':[0.001,0.01,0.05,0.1,0.5,1,5,10,100]}\n",
    "\n",
    "avg_test_errors = []\n",
    "\n",
    "for i in range(0,50):\n",
    "    \n",
    "    train = pd.DataFrame()\n",
    "\n",
    "    train_full = pd.concat([X_train_full,y_train_full],axis=1)\n",
    "\n",
    "    test_errors = []\n",
    "\n",
    "    for j in range(0,90):\n",
    "\n",
    "        train_sample = train_full.sample(n=10,replace=False)\n",
    "\n",
    "        train = pd.concat([train,train_sample], axis = 0)\n",
    "\n",
    "        train_full.drop(index=train_sample.index.tolist(),inplace=True)\n",
    "\n",
    "        X_train = train.loc[:,train.columns[train.columns != 'class']]\n",
    "        y_train = train.loc[:,'class']\n",
    "\n",
    "        svc = LinearSVC(penalty='l1',dual=False)\n",
    "        \n",
    "        #10-fold cross validation for the selected parameters\n",
    "        clf = GridSearchCV(estimator=svc, param_grid=parameters,cv=KFold(10),refit=True)\n",
    "        clf.fit(X_train, y_train)\n",
    "        \n",
    "        #Predict using the best estimator from GridSearchCV - Using Refit = True\n",
    "        predicted = clf.predict(X_test)\n",
    "        actual = np.array(y_test)\n",
    "        cm = confusion_matrix(actual,predicted)\n",
    "\n",
    "        test_error = float(cm[0][1] + cm[1][0])/472.0\n",
    "\n",
    "        test_errors.append(np.round(test_error,2))\n",
    "    \n",
    "    avg_test_errors.append(test_errors)"
   ]
  },
  {
   "cell_type": "code",
   "execution_count": 7,
   "metadata": {},
   "outputs": [],
   "source": [
    "a = np.array(avg_test_errors)"
   ]
  },
  {
   "cell_type": "code",
   "execution_count": 8,
   "metadata": {},
   "outputs": [],
   "source": [
    "i_avg = []\n",
    "for i in range(0,90):\n",
    "    s = 0\n",
    "    for j in range(0,50):\n",
    "        s = s + a[j][i]\n",
    "    i_avg.append(np.round(float(s)/50.0,2))"
   ]
  },
  {
   "cell_type": "markdown",
   "metadata": {},
   "source": [
    "### Active Learning"
   ]
  },
  {
   "cell_type": "markdown",
   "metadata": {},
   "source": [
    "(c) Train a SVM with a pool of 10 randomly selected data points from the training set using linear kernel and L1 penalty. Select the parameters of the SVM with 10-fold cross validation. Choose the 10 closest data points in the training set to the margin of the SVM and add them to the pool. Do not replace the samples back into the training set. Train a new SVM using the pool.Repeat this process until all training data is used. You will have 90 SVMs that were trained using 10, 20, 30,..., 900 data points and their 90 test errors. You have implemented active learning."
   ]
  },
  {
   "cell_type": "code",
   "execution_count": 10,
   "metadata": {},
   "outputs": [],
   "source": [
    "parameters = {'C':[0.001,0.01,0.05,0.1,0.5,1,5,10,100]}\n",
    "\n",
    "avg_test_errors = []\n",
    "\n",
    "for i in range(0,50):\n",
    "    \n",
    "    train = pd.DataFrame()\n",
    "\n",
    "    train_full = pd.concat([X_train_full,y_train_full],axis=1)\n",
    "\n",
    "    test_errors = []\n",
    "\n",
    "    for j in range(0,90):\n",
    "        \n",
    "        if j == 0:\n",
    "            train_sample = train_full.sample(n=10,replace=False)\n",
    "        else:\n",
    "            X_temp = train_full[train_full.columns[train_full.columns!='class']]\n",
    "            train_sample = train_full.loc[np.abs(clf.decision_function(X_temp)).argsort()[0:10].tolist(),:]\n",
    "\n",
    "        train = pd.concat([train,train_sample], axis = 0)\n",
    "        train.reset_index(drop=True,inplace=True)\n",
    "\n",
    "        train_full.drop(index=train_sample.index.tolist(),inplace=True)\n",
    "        train_full.reset_index(drop=True,inplace=True)\n",
    "\n",
    "        X_train = train.loc[:,train.columns[train.columns != 'class']]\n",
    "        y_train = train.loc[:,'class']\n",
    "\n",
    "        svc = LinearSVC(penalty='l1',dual=False)\n",
    "        \n",
    "        #10-fold cross validation for the selected parameters\n",
    "        clf = GridSearchCV(estimator=svc, param_grid=parameters,cv=KFold(10),refit=True)\n",
    "        clf.fit(X_train, y_train)\n",
    "        \n",
    "        #Predict using the best estimator from GridSearchCV - Using Refit = True\n",
    "        predicted = clf.predict(X_test)\n",
    "        actual = np.array(y_test)\n",
    "        cm = confusion_matrix(actual,predicted)\n",
    "\n",
    "        test_error = float(cm[0][1] + cm[1][0])/472.0\n",
    "\n",
    "        test_errors.append(np.round(test_error,2))\n",
    "    \n",
    "    avg_test_errors.append(test_errors)"
   ]
  },
  {
   "cell_type": "code",
   "execution_count": 11,
   "metadata": {},
   "outputs": [],
   "source": [
    "a = np.array(avg_test_errors)"
   ]
  },
  {
   "cell_type": "code",
   "execution_count": 12,
   "metadata": {},
   "outputs": [],
   "source": [
    "ii_avg = []\n",
    "for i in range(0,90):\n",
    "    s = 0\n",
    "    for j in range(0,50):\n",
    "        s = s + a[j][i]\n",
    "    ii_avg.append(np.round(float(s)/50.0,2))"
   ]
  },
  {
   "cell_type": "markdown",
   "metadata": {},
   "source": [
    "### Monte-Carlo Simulation"
   ]
  },
  {
   "cell_type": "markdown",
   "metadata": {},
   "source": [
    "(d) Average the test errors for the incrementally trained 90 SVMs in 1(b)i and1(b)ii. By doing so, you are performing a Monte Carlo simulation. Plot average test error versus number of training instances for both active and passive learners on the same figure and report your conclusions."
   ]
  },
  {
   "cell_type": "code",
   "execution_count": 52,
   "metadata": {},
   "outputs": [],
   "source": [
    "a = pd.DataFrame({'Training_Instances': range(10,910,10),'Passive_Learning': i_avg, 'Active_Learning': ii_avg})"
   ]
  },
  {
   "cell_type": "code",
   "execution_count": 53,
   "metadata": {},
   "outputs": [],
   "source": [
    "a.index = a['Training_Instances']\n",
    "a = a[['Training_Instances','Active_Learning','Passive_Learning']]\n",
    "del a['Training_Instances']"
   ]
  },
  {
   "cell_type": "code",
   "execution_count": 54,
   "metadata": {},
   "outputs": [
    {
     "data": {
      "text/plain": [
       "Text(0,0.5,u'Average Test Error')"
      ]
     },
     "execution_count": 54,
     "metadata": {},
     "output_type": "execute_result"
    },
    {
     "data": {
      "image/png": "[encoded data removed]",
      "text/plain": [
       "<matplotlib.figure.Figure at 0x1a1eb9dc50>"
      ]
     },
     "metadata": {},
     "output_type": "display_data"
    }
   ],
   "source": [
    "ax = a.plot(style='--',title='Monte Carlo Simulation')\n",
    "ax.set_xlabel(\"Number of Training Instances (10 - 900)\")\n",
    "ax.set_ylabel(\"Average Test Error\")"
   ]
  },
  {
   "cell_type": "markdown",
   "metadata": {},
   "source": [
    "The average test error for Active Learning goes down quicker as compared to Passive Learning. Active Learning gives a better result."
   ]
  }
 ],
 "metadata": {
  "kernelspec": {
   "display_name": "Python 2",
   "language": "python",
   "name": "python2"
  },
  "language_info": {
   "codemirror_mode": {
    "name": "ipython",
    "version": 2
   },
   "file_extension": ".py",
   "mimetype": "text/x-python",
   "name": "python",
   "nbconvert_exporter": "python",
   "pygments_lexer": "ipython2",
   "version": "2.7.14"
  }
 },
 "nbformat": 4,
 "nbformat_minor": 2
}
